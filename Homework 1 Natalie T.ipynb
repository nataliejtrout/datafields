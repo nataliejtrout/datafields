{
 "cells": [
  {
   "cell_type": "code",
   "execution_count": 1,
   "metadata": {
    "tags": []
   },
   "outputs": [
    {
     "data": {
      "text/html": [
       "<style type=\"text/css\">\n",
       "  span.ecb { background: yellow; }\n",
       "</style>\n"
      ],
      "text/plain": [
       "<IPython.core.display.HTML object>"
      ]
     },
     "metadata": {},
     "output_type": "display_data"
    }
   ],
   "source": [
    "%%html\n",
    "<style type=\"text/css\">\n",
    "  span.ecb { background: yellow; }\n",
    "</style>"
   ]
  },
  {
   "cell_type": "markdown",
   "metadata": {},
   "source": [
    "# ATMO 5331 - Homework 1 - Fall 2021\n",
    "## Due 7 Sep, 2021\n",
    "\n",
    "\n",
    "When doing this homework, remember that you have two jobs:\n",
    "1. Make it work.\n",
    "2. Clean it up so that I can understand what you've done. If you think I might not understand, document it with a comment or a function docstring.\n",
    "\n",
    "You should present your work with a clear logical progression. If that seems like a hassle, remember that in doing so you are practicing skills that are expected in your thesis and journal publications.\n",
    "\n",
    "You may work alone or in pairs. I will not be adjudicating relative level of effort in group work, so you are responsible for ensuring that you and your partner contribute equally."
   ]
  },
  {
   "cell_type": "code",
   "execution_count": 1,
   "metadata": {},
   "outputs": [],
   "source": [
    "%matplotlib inline\n",
    "import matplotlib.pyplot as plt"
   ]
  },
  {
   "cell_type": "code",
   "execution_count": 2,
   "metadata": {},
   "outputs": [],
   "source": [
    "import numpy as np\n",
    "\n",
    "mcom_lon, mcom_lat = -101.8803718553, 33.5818617015\n",
    "mcom_alt = 957.179"
   ]
  },
  {
   "cell_type": "markdown",
   "metadata": {},
   "source": [
    "**1.** Create the 1D arrays `lon` and `lat`, centered on MCOM and incrementing by 5 degrees. There should be 7 longitude and 5 latitude values. (10 pts.)\n",
    "\n",
    "The sample code also includes data array `d` with the shape (`nlat`, `nlon`), and defines some values so that we all have the same dataset. A plot of the data array in index coordintes is also included.\n",
    "\n",
    "Together these arrays define the grid cell center locations and corresponding data values."
   ]
  },
  {
   "cell_type": "code",
   "execution_count": 3,
   "metadata": {},
   "outputs": [
    {
     "name": "stdout",
     "output_type": "stream",
     "text": [
      "[-116.88037186 -111.88037186 -106.88037186 -101.88037186  -96.88037186\n",
      "  -91.88037186  -86.88037186]\n",
      "[23.5818617 28.5818617 33.5818617 38.5818617 43.5818617]\n"
     ]
    },
    {
     "data": {
      "image/png": "[encoded data removed]",
      "text/plain": [
       "<Figure size 432x288 with 2 Axes>"
      ]
     },
     "metadata": {
      "needs_background": "light"
     },
     "output_type": "display_data"
    }
   ],
   "source": [
    "#Here, we define the shape of the array, and the coordinates for two 1D arrays centered on MCom\n",
    "\n",
    "nlon = 7\n",
    "nlat = 5\n",
    "dlon, dlat = 5.0, 5.0\n",
    "\n",
    "d = (np.arange(nlon*nlat) - (nlon*nlat/2.0))**2.0\n",
    "d.shape = (nlat, nlon)\n",
    "\n",
    "fig = plt.figure()\n",
    "ax = fig.add_subplot(111)\n",
    "im = ax.imshow(d, origin='lower')\n",
    "plt.colorbar(im)\n",
    "ax.set_xlabel('x index')\n",
    "ax.set_ylabel('y index')\n",
    "\n",
    "lon = np.array([mcom_lon - 15, mcom_lon -10 , mcom_lon - 5, mcom_lon, mcom_lon + 5, mcom_lon + 10, mcom_lon + 15])\n",
    "lat = np.array([mcom_lat - 10, mcom_lat - 5, mcom_lat, mcom_lat + 5, mcom_lat + 10])\n",
    "print(lon)\n",
    "print(lat)"
   ]
  },
  {
   "cell_type": "markdown",
   "metadata": {},
   "source": [
    "<span class=\"ecb\">Correct, 10/10</span>"
   ]
  },
  {
   "cell_type": "markdown",
   "metadata": {},
   "source": [
    "**2.** Since the image is regularly gridded in lon/lat We can use the `extent` keyword argument to `imshow` to specify the bounds of the image, as you see below. Is this plot correct or incorrect? Explain how the `extent` keyword argument works using the language of centers, edges, and nodes. (10 pts.)\n",
    "\n",
    "`print(ax.axis())` might be useful in understanding what you are seeing."
   ]
  },
  {
   "cell_type": "code",
   "execution_count": 4,
   "metadata": {},
   "outputs": [
    {
     "name": "stdout",
     "output_type": "stream",
     "text": [
      "(-116.8803718553, -86.8803718553, 23.581861701500003, 43.5818617015)\n"
     ]
    },
    {
     "data": {
      "image/png": "[encoded data removed]",
      "text/plain": [
       "<Figure size 432x288 with 2 Axes>"
      ]
     },
     "metadata": {
      "needs_background": "light"
     },
     "output_type": "display_data"
    }
   ],
   "source": [
    "fig = plt.figure()\n",
    "ax = fig.add_subplot(111)\n",
    "\n",
    "im = ax.imshow(d, origin='lower', extent=(lon.min(), lon.max(), lat.min(), lat.max()))\n",
    "plt.colorbar(im)\n",
    "ax.scatter(mcom_lon, mcom_lat, marker='x', color='red')\n",
    "ax.set_xlabel('longitude (degrees)')\n",
    "ax.set_ylabel('latitude (degrees)')\n",
    "\n",
    "print(ax.axis())"
   ]
  },
  {
   "cell_type": "markdown",
   "metadata": {},
   "source": [
    "ANSWER:the extent function in python works as a bound when plotting a function. You could also define it as extent is setting the outter most edge of our image. On a smaller scale, each node is a intersection of a lon and lat specified in the array. For if this plot is correct, it depends on which way you consider correct. The X is in the center of what would be the lon and lat of Lubbock. But what I would change to make it \"more correct\" would be adding one more point on each side of the plot so then we could have the incoming data for the plot, just a personal preference though. But you could also say it is correct as the values of the edges are the \"points\" of each value of lat and lon. But also with this, shouldn't the X be on the node/intersection of the grid? "
   ]
  },
  {
   "cell_type": "markdown",
   "metadata": {},
   "source": [
    "<span class=\"ecb\">It is more firmly not correct than you are stating it. The grid cell centers for the outer boxes are progressively mislocated. Your answer indicates you suspect something is off, but you haven't gone far enough in determining whether it meets the standards we set in class. 6/10.</span>"
   ]
  },
  {
   "cell_type": "markdown",
   "metadata": {},
   "source": [
    "**3.** Write a function that converts 1D center positions to edge positions. Use the closest adjacent spacing to extend the start and end of the array. Use this function to create two arrays `lat_edge` and `lon_edge` and print their values. Is the new figure created with `imshow` correct? Explain your answer. (20 pts.)"
   ]
  },
  {
   "cell_type": "code",
   "execution_count": 10,
   "metadata": {},
   "outputs": [
    {
     "name": "stdout",
     "output_type": "stream",
     "text": [
      "[-119.38037186 -114.38037186 -109.38037186 -104.38037186  -99.38037186\n",
      "  -94.38037186  -89.38037186  -84.38037186]\n",
      "[21.0818617 26.0818617 31.0818617 36.0818617 41.0818617 46.0818617]\n"
     ]
    },
    {
     "data": {
      "text/plain": [
       "Text(0, 0.5, 'latitude (degrees)')"
      ]
     },
     "execution_count": 10,
     "metadata": {},
     "output_type": "execute_result"
    },
    {
     "data": {
      "image/png": "[encoded data removed]",
      "text/plain": [
       "<Figure size 432x288 with 2 Axes>"
      ]
     },
     "metadata": {
      "needs_background": "light"
     },
     "output_type": "display_data"
    }
   ],
   "source": [
    "#defining our fuction to create a new array for the original arrays that will have the lon/lat points as the center of the\n",
    "#  the pixels and not the edges\n",
    "\n",
    "def centers_to_edges_1d(x):\n",
    "    dis = 2.5\n",
    "    return np.arange(min(x) - dis, max(x) + 2*dis, 2*dis)\n",
    "    \n",
    "lon_edge = centers_to_edges_1d(lon)\n",
    "lat_edge = centers_to_edges_1d(lat)\n",
    "print(lon_edge)\n",
    "print(lat_edge)\n",
    "\n",
    "fig = plt.figure()\n",
    "ax = fig.add_subplot(111)\n",
    "im = ax.imshow(d, origin='lower', extent=(lon_edge.min(), lon_edge.max(), lat_edge.min(), lat_edge.max()))\n",
    "plt.colorbar(im)\n",
    "ax.scatter(mcom_lon, mcom_lat, marker='x', color='red')\n",
    "ax.set_xlabel('longitude (degrees)')\n",
    "ax.set_ylabel('latitude (degrees)')\n",
    "\n",
    "# Answer: I think this is more correct in my opinion, as there is the addition of the extra bit of a edge. Also using this,\n",
    "#  the center of each pixel is now each point centering Mcom, thus our x is now the true center. "
   ]
  },
  {
   "cell_type": "markdown",
   "metadata": {},
   "source": [
    "<span class=\"ecb\">Yes, this one is correct. The `centers_to_edges` function needs to determine the spacing from `x` alone. 18/20.</span>"
   ]
  },
  {
   "cell_type": "markdown",
   "metadata": {},
   "source": [
    "**4.** `imshow` works for the data so far because we have a regular grid with even spacing, so we only need to specify the corners. For a more general quadrilateral mesh, we can use `pcolormesh` to create a similar plot. What, if anything, is different about these plots compared to the first two? (10 pts.)"
   ]
  },
  {
   "cell_type": "code",
   "execution_count": 6,
   "metadata": {},
   "outputs": [
    {
     "name": "stderr",
     "output_type": "stream",
     "text": [
      "<ipython-input-6-ac94922340c1>:3: MatplotlibDeprecationWarning: shading='flat' when X and Y have the same dimensions as C is deprecated since 3.3.  Either specify the corners of the quadrilaterals with X and Y, or pass shading='auto', 'nearest' or 'gouraud', or set rcParams['pcolor.shading'].  This will become an error two minor releases later.\n",
      "  im = ax.pcolormesh(lon, lat, d)\n"
     ]
    },
    {
     "data": {
      "text/plain": [
       "Text(0, 0.5, 'latitude (degrees)')"
      ]
     },
     "execution_count": 6,
     "metadata": {},
     "output_type": "execute_result"
    },
    {
     "data": {
      "image/png": "[encoded data removed]",
      "text/plain": [
       "<Figure size 432x288 with 2 Axes>"
      ]
     },
     "metadata": {
      "needs_background": "light"
     },
     "output_type": "display_data"
    },
    {
     "data": {
      "image/png": "[encoded data removed]",
      "text/plain": [
       "<Figure size 432x288 with 2 Axes>"
      ]
     },
     "metadata": {
      "needs_background": "light"
     },
     "output_type": "display_data"
    }
   ],
   "source": [
    "fig = plt.figure()\n",
    "ax = fig.add_subplot(111)\n",
    "im = ax.pcolormesh(lon, lat, d)\n",
    "plt.colorbar(im)\n",
    "ax.scatter(mcom_lon, mcom_lat, marker='x', color='red')\n",
    "ax.set_xlabel('longitude (degrees)')\n",
    "ax.set_ylabel('latitude (degrees)')\n",
    "\n",
    "\n",
    "fig = plt.figure()\n",
    "ax = fig.add_subplot(111)\n",
    "im = ax.pcolormesh(lon_edge, lat_edge, d)\n",
    "plt.colorbar(im)\n",
    "ax.scatter(mcom_lon, mcom_lat, marker='x', color='red')\n",
    "ax.set_xlabel('longitude (degrees)')\n",
    "ax.set_ylabel('latitude (degrees)')"
   ]
  },
  {
   "cell_type": "markdown",
   "metadata": {},
   "source": [
    "ANSWER: These look like they are spacing the grids in a mannar that we would normally associate with a map. These pixels are more rectangular than those in the first two plots. As well as the grid axis ticks are further spaced out. "
   ]
  },
  {
   "cell_type": "markdown",
   "metadata": {},
   "source": [
    "<span class=\"ecb\">Missing a row and column of data in the first plot. What do you notice about the MCOM center position? 6/10.</span>"
   ]
  },
  {
   "cell_type": "markdown",
   "metadata": {},
   "source": [
    "**5.** So far, you have used 1D coordinate arrays, and things worked fine because the data were regularly gridded. `pcolormesh` will also accept 2D coordinate arrays. The function `np.meshgrid` creates 2D arrays from 1D arrays. Use `meshgrid` to create these 2D coordinate arrays and use them to make a plot of the data using `pcolormesh`. It should match the correct plot(s) above (20 pts.)."
   ]
  },
  {
   "cell_type": "code",
   "execution_count": 7,
   "metadata": {},
   "outputs": [
    {
     "data": {
      "text/plain": [
       "\u001b[0;31mSignature:\u001b[0m \u001b[0mnp\u001b[0m\u001b[0;34m.\u001b[0m\u001b[0mmeshgrid\u001b[0m\u001b[0;34m(\u001b[0m\u001b[0;34m*\u001b[0m\u001b[0mxi\u001b[0m\u001b[0;34m,\u001b[0m \u001b[0mcopy\u001b[0m\u001b[0;34m=\u001b[0m\u001b[0;32mTrue\u001b[0m\u001b[0;34m,\u001b[0m \u001b[0msparse\u001b[0m\u001b[0;34m=\u001b[0m\u001b[0;32mFalse\u001b[0m\u001b[0;34m,\u001b[0m \u001b[0mindexing\u001b[0m\u001b[0;34m=\u001b[0m\u001b[0;34m'xy'\u001b[0m\u001b[0;34m)\u001b[0m\u001b[0;34m\u001b[0m\u001b[0;34m\u001b[0m\u001b[0m\n",
       "\u001b[0;31mDocstring:\u001b[0m\n",
       "Return coordinate matrices from coordinate vectors.\n",
       "\n",
       "Make N-D coordinate arrays for vectorized evaluations of\n",
       "N-D scalar/vector fields over N-D grids, given\n",
       "one-dimensional coordinate arrays x1, x2,..., xn.\n",
       "\n",
       ".. versionchanged:: 1.9\n",
       "   1-D and 0-D cases are allowed.\n",
       "\n",
       "Parameters\n",
       "----------\n",
       "x1, x2,..., xn : array_like\n",
       "    1-D arrays representing the coordinates of a grid.\n",
       "indexing : {'xy', 'ij'}, optional\n",
       "    Cartesian ('xy', default) or matrix ('ij') indexing of output.\n",
       "    See Notes for more details.\n",
       "\n",
       "    .. versionadded:: 1.7.0\n",
       "sparse : bool, optional\n",
       "    If True a sparse grid is returned in order to conserve memory.\n",
       "    Default is False.\n",
       "\n",
       "    .. versionadded:: 1.7.0\n",
       "copy : bool, optional\n",
       "    If False, a view into the original arrays are returned in order to\n",
       "    conserve memory.  Default is True.  Please note that\n",
       "    ``sparse=False, copy=False`` will likely return non-contiguous\n",
       "    arrays.  Furthermore, more than one element of a broadcast array\n",
       "    may refer to a single memory location.  If you need to write to the\n",
       "    arrays, make copies first.\n",
       "\n",
       "    .. versionadded:: 1.7.0\n",
       "\n",
       "Returns\n",
       "-------\n",
       "X1, X2,..., XN : ndarray\n",
       "    For vectors `x1`, `x2`,..., 'xn' with lengths ``Ni=len(xi)`` ,\n",
       "    return ``(N1, N2, N3,...Nn)`` shaped arrays if indexing='ij'\n",
       "    or ``(N2, N1, N3,...Nn)`` shaped arrays if indexing='xy'\n",
       "    with the elements of `xi` repeated to fill the matrix along\n",
       "    the first dimension for `x1`, the second for `x2` and so on.\n",
       "\n",
       "Notes\n",
       "-----\n",
       "This function supports both indexing conventions through the indexing\n",
       "keyword argument.  Giving the string 'ij' returns a meshgrid with\n",
       "matrix indexing, while 'xy' returns a meshgrid with Cartesian indexing.\n",
       "In the 2-D case with inputs of length M and N, the outputs are of shape\n",
       "(N, M) for 'xy' indexing and (M, N) for 'ij' indexing.  In the 3-D case\n",
       "with inputs of length M, N and P, outputs are of shape (N, M, P) for\n",
       "'xy' indexing and (M, N, P) for 'ij' indexing.  The difference is\n",
       "illustrated by the following code snippet::\n",
       "\n",
       "    xv, yv = np.meshgrid(x, y, sparse=False, indexing='ij')\n",
       "    for i in range(nx):\n",
       "        for j in range(ny):\n",
       "            # treat xv[i,j], yv[i,j]\n",
       "\n",
       "    xv, yv = np.meshgrid(x, y, sparse=False, indexing='xy')\n",
       "    for i in range(nx):\n",
       "        for j in range(ny):\n",
       "            # treat xv[j,i], yv[j,i]\n",
       "\n",
       "In the 1-D and 0-D case, the indexing and sparse keywords have no effect.\n",
       "\n",
       "See Also\n",
       "--------\n",
       "mgrid : Construct a multi-dimensional \"meshgrid\" using indexing notation.\n",
       "ogrid : Construct an open multi-dimensional \"meshgrid\" using indexing \n",
       "        notation.\n",
       "\n",
       "Examples\n",
       "--------\n",
       ">>> nx, ny = (3, 2)\n",
       ">>> x = np.linspace(0, 1, nx)\n",
       ">>> y = np.linspace(0, 1, ny)\n",
       ">>> xv, yv = np.meshgrid(x, y)\n",
       ">>> xv\n",
       "array([[0. , 0.5, 1. ],\n",
       "       [0. , 0.5, 1. ]])\n",
       ">>> yv\n",
       "array([[0.,  0.,  0.],\n",
       "       [1.,  1.,  1.]])\n",
       ">>> xv, yv = np.meshgrid(x, y, sparse=True)  # make sparse output arrays\n",
       ">>> xv\n",
       "array([[0. ,  0.5,  1. ]])\n",
       ">>> yv\n",
       "array([[0.],\n",
       "       [1.]])\n",
       "\n",
       "`meshgrid` is very useful to evaluate functions on a grid.\n",
       "\n",
       ">>> import matplotlib.pyplot as plt\n",
       ">>> x = np.arange(-5, 5, 0.1)\n",
       ">>> y = np.arange(-5, 5, 0.1)\n",
       ">>> xx, yy = np.meshgrid(x, y, sparse=True)\n",
       ">>> z = np.sin(xx**2 + yy**2) / (xx**2 + yy**2)\n",
       ">>> h = plt.contourf(x,y,z)\n",
       ">>> plt.show()\n",
       "\u001b[0;31mFile:\u001b[0m      ~/opt/anaconda3/lib/python3.8/site-packages/numpy/lib/function_base.py\n",
       "\u001b[0;31mType:\u001b[0m      function\n"
      ]
     },
     "metadata": {},
     "output_type": "display_data"
    }
   ],
   "source": [
    "np.meshgrid?"
   ]
  },
  {
   "cell_type": "code",
   "execution_count": 8,
   "metadata": {},
   "outputs": [
    {
     "name": "stdout",
     "output_type": "stream",
     "text": [
      "[[3.0625e+02 2.7225e+02 2.4025e+02 2.1025e+02 1.8225e+02 1.5625e+02\n",
      "  1.3225e+02]\n",
      " [1.1025e+02 9.0250e+01 7.2250e+01 5.6250e+01 4.2250e+01 3.0250e+01\n",
      "  2.0250e+01]\n",
      " [1.2250e+01 6.2500e+00 2.2500e+00 2.5000e-01 2.5000e-01 2.2500e+00\n",
      "  6.2500e+00]\n",
      " [1.2250e+01 2.0250e+01 3.0250e+01 4.2250e+01 5.6250e+01 7.2250e+01\n",
      "  9.0250e+01]\n",
      " [1.1025e+02 1.3225e+02 1.5625e+02 1.8225e+02 2.1025e+02 2.4025e+02\n",
      "  2.7225e+02]]\n",
      "[[21.0818617 21.0818617 21.0818617 21.0818617 21.0818617 21.0818617\n",
      "  21.0818617 21.0818617]\n",
      " [26.0818617 26.0818617 26.0818617 26.0818617 26.0818617 26.0818617\n",
      "  26.0818617 26.0818617]\n",
      " [31.0818617 31.0818617 31.0818617 31.0818617 31.0818617 31.0818617\n",
      "  31.0818617 31.0818617]\n",
      " [36.0818617 36.0818617 36.0818617 36.0818617 36.0818617 36.0818617\n",
      "  36.0818617 36.0818617]\n",
      " [41.0818617 41.0818617 41.0818617 41.0818617 41.0818617 41.0818617\n",
      "  41.0818617 41.0818617]\n",
      " [46.0818617 46.0818617 46.0818617 46.0818617 46.0818617 46.0818617\n",
      "  46.0818617 46.0818617]]\n",
      "[[-119.38037186 -114.38037186 -109.38037186 -104.38037186  -99.38037186\n",
      "   -94.38037186  -89.38037186  -84.38037186]\n",
      " [-119.38037186 -114.38037186 -109.38037186 -104.38037186  -99.38037186\n",
      "   -94.38037186  -89.38037186  -84.38037186]\n",
      " [-119.38037186 -114.38037186 -109.38037186 -104.38037186  -99.38037186\n",
      "   -94.38037186  -89.38037186  -84.38037186]\n",
      " [-119.38037186 -114.38037186 -109.38037186 -104.38037186  -99.38037186\n",
      "   -94.38037186  -89.38037186  -84.38037186]\n",
      " [-119.38037186 -114.38037186 -109.38037186 -104.38037186  -99.38037186\n",
      "   -94.38037186  -89.38037186  -84.38037186]\n",
      " [-119.38037186 -114.38037186 -109.38037186 -104.38037186  -99.38037186\n",
      "   -94.38037186  -89.38037186  -84.38037186]]\n",
      "(6, 8)\n",
      "(6, 8)\n"
     ]
    }
   ],
   "source": [
    "lon_edge_2d, lat_edge_2d = np.meshgrid(lon_edge, lat_edge)\n",
    "print(d)\n",
    "print(lat_edge_2d)\n",
    "print(lon_edge_2d)\n",
    "\n",
    "print(lat_edge_2d.shape)\n",
    "print(lon_edge_2d.shape)\n"
   ]
  },
  {
   "cell_type": "code",
   "execution_count": 9,
   "metadata": {},
   "outputs": [
    {
     "data": {
      "text/plain": [
       "Text(0, 0.5, 'latitude (degrees)')"
      ]
     },
     "execution_count": 9,
     "metadata": {},
     "output_type": "execute_result"
    },
    {
     "data": {
      "image/png": "[encoded data removed]",
      "text/plain": [
       "<Figure size 432x288 with 2 Axes>"
      ]
     },
     "metadata": {
      "needs_background": "light"
     },
     "output_type": "display_data"
    }
   ],
   "source": [
    "fig = plt.figure()\n",
    "ax = fig.add_subplot(111)\n",
    "im = ax.pcolormesh(lon_edge_2d, lat_edge_2d, d)\n",
    "plt.colorbar(im)\n",
    "ax.scatter(mcom_lon, mcom_lat, marker='x', color='red')\n",
    "ax.set_xlabel('longitude (degrees)')\n",
    "ax.set_ylabel('latitude (degrees)')"
   ]
  },
  {
   "cell_type": "markdown",
   "metadata": {},
   "source": [
    "<span class=\"ecb\">Correct, 10/10.</span>"
   ]
  },
  {
   "cell_type": "code",
   "execution_count": null,
   "metadata": {},
   "outputs": [],
   "source": []
  }
 ],
 "metadata": {
  "kernelspec": {
   "display_name": "Python 3 (ipykernel)",
   "language": "python",
   "name": "python3"
  },
  "language_info": {
   "codemirror_mode": {
    "name": "ipython",
    "version": 3
   },
   "file_extension": ".py",
   "mimetype": "text/x-python",
   "name": "python",
   "nbconvert_exporter": "python",
   "pygments_lexer": "ipython3",
   "version": "3.9.6"
  }
 },
 "nbformat": 4,
 "nbformat_minor": 4
}
